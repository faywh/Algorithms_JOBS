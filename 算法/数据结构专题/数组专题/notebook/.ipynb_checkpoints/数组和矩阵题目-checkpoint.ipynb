{
 "cells": [
  {
   "cell_type": "markdown",
   "metadata": {},
   "source": [
    "# 数组和矩阵相关题目\n",
    "\n",
    "矩阵相关的题目是真的很绕，而且有很多细节可以抠，写的人脑壳疼。\n",
    "以下题目均来自《程序员代码面试指南》"
   ]
  },
  {
   "cell_type": "markdown",
   "metadata": {},
   "source": [
    "## 1 转圈打印矩阵\n",
    "题目：给定一个整形矩阵matrix，请按照转圈的方式打印它。\n",
    "\n",
    "### 思路\n",
    "比较容易想到的两种思路：1、定义curRow和curCol记录当前遍历到的行和列；需要考虑只剩一行和只剩一列的情况；2、定义tR、tC、dR和dC定位当前遍历到的子矩阵，一层一层往里缩小范围；也需要单独考虑只剩一行和只剩一列的情况。"
   ]
  },
  {
   "cell_type": "code",
   "execution_count": 1,
   "metadata": {},
   "outputs": [],
   "source": [
    "def spiralOrderPrint(matrix):\n",
    "    def traceMatrix(tR, tC, dR, dC):\n",
    "        # 如果矩阵只有一行\n",
    "        if tR == dR:\n",
    "            for i in range(tC, dC + 1):\n",
    "                ans.append(matrix[tR][i])\n",
    "        # 如果矩阵只有一列\n",
    "        elif tC == dC:\n",
    "            for i in range(tR, dR + 1):\n",
    "                ans.append(matrix[i][tC])\n",
    "        else:\n",
    "            curR, curC = tR, tC\n",
    "            while curC != dC:\n",
    "                ans.append(matrix[tR][curC])\n",
    "                curC += 1\n",
    "            while curR != dR:\n",
    "                ans.append(matrix[curR][dC])\n",
    "                curR += 1\n",
    "            while curC != tC:\n",
    "                ans.append(matrix[dR][curC])\n",
    "                curC -= 1\n",
    "            while curR != tR:\n",
    "                ans.append(matrix[curR][tC])\n",
    "                curR -= 1\n",
    "\n",
    "    ans = []\n",
    "    tR, tC, dR, dC = 0, 0, len(matrix) - 1, len(matrix[0]) - 1\n",
    "    while tR <= dR and tC <= dC:\n",
    "        traceMatrix(tR, tC, dR, dC)\n",
    "        tR, tC, dR, dC = tR + 1, tC + 1, dR - 1, dC - 1\n",
    "    return ans"
   ]
  },
  {
   "cell_type": "markdown",
   "metadata": {},
   "source": [
    "测试用例"
   ]
  },
  {
   "cell_type": "code",
   "execution_count": 9,
   "metadata": {},
   "outputs": [
    {
     "name": "stdout",
     "output_type": "stream",
     "text": [
      "[[ 1  2  3  4]\n",
      " [ 5  6  7  8]\n",
      " [ 9 10 11 12]\n",
      " [13 14 15 16]]\n"
     ]
    },
    {
     "data": {
      "text/plain": [
       "[1, 2, 3, 4, 8, 12, 16, 15, 14, 13, 9, 5, 6, 7, 11, 10]"
      ]
     },
     "execution_count": 9,
     "metadata": {},
     "output_type": "execute_result"
    }
   ],
   "source": [
    "import numpy as np\n",
    "\n",
    "testArr = np.arange(16).reshape(4,4) + 1\n",
    "print(testArr)\n",
    "spiralOrderPrint(testArr)"
   ]
  },
  {
   "cell_type": "markdown",
   "metadata": {},
   "source": [
    "## 2 将正方形矩阵顺时针转动90度\n",
    "题目：给定一个nxn的matrix，把这个矩阵原地旋转90度，要求空间复杂度O(1)."
   ]
  },
  {
   "cell_type": "code",
   "execution_count": 12,
   "metadata": {},
   "outputs": [],
   "source": [
    "def rotate(matrix):\n",
    "    def rotate_submatrix(tR, tC, dR, dC):\n",
    "        times = dC - tC\n",
    "        for i in range(times):\n",
    "            temp = matrix[tR][tC + i]\n",
    "            matrix[tR][tC + i] = matrix[dR - i][tC]\n",
    "            matrix[dR - i][tC] = matrix[dR][dC - i]\n",
    "            matrix[dR][dC - i] = matrix[tR + i][dC]\n",
    "            matrix[tR + i][dC] = temp\n",
    "        \n",
    "        \n",
    "    tR, tC, dR, dC = 0, 0, len(matrix) - 1, len(matrix[0]) - 1\n",
    "    while tR < dR:\n",
    "        rotate_submatrix(tR, tC, dR, dC)\n",
    "        tR, tC, dR, dC = tR + 1, tC + 1, dR - 1, dC - 1"
   ]
  },
  {
   "cell_type": "markdown",
   "metadata": {},
   "source": [
    "测试用例"
   ]
  },
  {
   "cell_type": "code",
   "execution_count": 14,
   "metadata": {},
   "outputs": [
    {
     "name": "stdout",
     "output_type": "stream",
     "text": [
      "[[ 1  2  3  4]\n",
      " [ 5  6  7  8]\n",
      " [ 9 10 11 12]\n",
      " [13 14 15 16]]\n",
      "[[13  9  5  1]\n",
      " [14 10  6  2]\n",
      " [15 11  7  3]\n",
      " [16 12  8  4]]\n"
     ]
    }
   ],
   "source": [
    "import numpy as np\n",
    "\n",
    "testArr = np.arange(16).reshape(4,4) + 1\n",
    "print(testArr)\n",
    "rotate(testArr)\n",
    "print(testArr)"
   ]
  },
  {
   "cell_type": "markdown",
   "metadata": {},
   "source": [
    "## 3 之字型打印矩阵[🐞]\n",
    "题目：给定一个矩阵matrix，按照之字型打印矩阵，要求额外空间复杂度O(1)"
   ]
  },
  {
   "cell_type": "code",
   "execution_count": 64,
   "metadata": {},
   "outputs": [],
   "source": [
    "def printMatrixZigZag(matrix):\n",
    "    ans = []\n",
    "    curR, curC = 0, 0\n",
    "    direction = 0\n",
    "    while curR != len(matrix) - 1 or curC != len(matrix[0]) - 1:\n",
    "        # 向右上方运动\n",
    "        if direction == 0:\n",
    "            while curR >= 0 and curC < len(matrix[0]):\n",
    "                print(curR, curC)\n",
    "                ans.append(matrix[curR][curC])\n",
    "                curR -= 1\n",
    "                curC += 1\n",
    "                print(ans)\n",
    "            direction = 1\n",
    "            if curC < len(matrix[0]):\n",
    "                curR = 0\n",
    "            else:\n",
    "                curR += 2\n",
    "                curC = len(matrix[0]) - 1\n",
    "                print('!!', curR, curC)\n",
    "        # 向左下方运动\n",
    "        else:\n",
    "            while curR < len(matrix[0]) and curC >= 0:\n",
    "                print(curR, curC)\n",
    "                ans.append(matrix[curR][curC])\n",
    "                curR += 1\n",
    "                curC -= 1\n",
    "                print(ans)\n",
    "            direction = 0\n",
    "            if curR < len(matrix) :\n",
    "                curC = 0\n",
    "                print('!', curR, curC)\n",
    "            else:\n",
    "                curC += 2\n",
    "                curR = len(matrix) - 1\n",
    "                print('!!', curR, curC)\n",
    "    ans.append(matrix[len(matrix) - 1][len(matrix[0]) - 1])\n",
    "    return ans"
   ]
  },
  {
   "cell_type": "markdown",
   "metadata": {},
   "source": [
    "测试用例"
   ]
  },
  {
   "cell_type": "code",
   "execution_count": 65,
   "metadata": {
    "scrolled": false
   },
   "outputs": [
    {
     "name": "stdout",
     "output_type": "stream",
     "text": [
      "[[ 1  2  3  4]\n",
      " [ 5  6  7  8]\n",
      " [ 9 10 11 12]]\n",
      "0 0\n",
      "[1]\n",
      "0 1\n",
      "[1, 2]\n",
      "1 0\n",
      "[1, 2, 5]\n",
      "2 0\n",
      "[1, 2, 5, 9]\n",
      "1 1\n",
      "[1, 2, 5, 9, 6]\n",
      "0 2\n",
      "[1, 2, 5, 9, 6, 3]\n",
      "0 3\n",
      "[1, 2, 5, 9, 6, 3, 4]\n",
      "1 2\n",
      "[1, 2, 5, 9, 6, 3, 4, 7]\n",
      "2 1\n",
      "[1, 2, 5, 9, 6, 3, 4, 7, 10]\n",
      "3 0\n"
     ]
    },
    {
     "ename": "IndexError",
     "evalue": "index 3 is out of bounds for axis 0 with size 3",
     "output_type": "error",
     "traceback": [
      "\u001b[1;31m---------------------------------------------------------------------------\u001b[0m",
      "\u001b[1;31mIndexError\u001b[0m                                Traceback (most recent call last)",
      "\u001b[1;32m<ipython-input-65-df056c0ece15>\u001b[0m in \u001b[0;36m<module>\u001b[1;34m()\u001b[0m\n\u001b[0;32m      3\u001b[0m \u001b[0mtestArr\u001b[0m \u001b[1;33m=\u001b[0m \u001b[0mnp\u001b[0m\u001b[1;33m.\u001b[0m\u001b[0marange\u001b[0m\u001b[1;33m(\u001b[0m\u001b[1;36m12\u001b[0m\u001b[1;33m)\u001b[0m\u001b[1;33m.\u001b[0m\u001b[0mreshape\u001b[0m\u001b[1;33m(\u001b[0m\u001b[1;36m3\u001b[0m\u001b[1;33m,\u001b[0m\u001b[1;36m4\u001b[0m\u001b[1;33m)\u001b[0m \u001b[1;33m+\u001b[0m \u001b[1;36m1\u001b[0m\u001b[1;33m\u001b[0m\u001b[0m\n\u001b[0;32m      4\u001b[0m \u001b[0mprint\u001b[0m\u001b[1;33m(\u001b[0m\u001b[0mtestArr\u001b[0m\u001b[1;33m)\u001b[0m\u001b[1;33m\u001b[0m\u001b[0m\n\u001b[1;32m----> 5\u001b[1;33m \u001b[0mprintMatrixZigZag\u001b[0m\u001b[1;33m(\u001b[0m\u001b[0mtestArr\u001b[0m\u001b[1;33m)\u001b[0m\u001b[1;33m\u001b[0m\u001b[0m\n\u001b[0m",
      "\u001b[1;32m<ipython-input-64-0f5067082d82>\u001b[0m in \u001b[0;36mprintMatrixZigZag\u001b[1;34m(matrix)\u001b[0m\n\u001b[0;32m     23\u001b[0m             \u001b[1;32mwhile\u001b[0m \u001b[0mcurR\u001b[0m \u001b[1;33m<\u001b[0m \u001b[0mlen\u001b[0m\u001b[1;33m(\u001b[0m\u001b[0mmatrix\u001b[0m\u001b[1;33m[\u001b[0m\u001b[1;36m0\u001b[0m\u001b[1;33m]\u001b[0m\u001b[1;33m)\u001b[0m \u001b[1;32mand\u001b[0m \u001b[0mcurC\u001b[0m \u001b[1;33m>=\u001b[0m \u001b[1;36m0\u001b[0m\u001b[1;33m:\u001b[0m\u001b[1;33m\u001b[0m\u001b[0m\n\u001b[0;32m     24\u001b[0m                 \u001b[0mprint\u001b[0m\u001b[1;33m(\u001b[0m\u001b[0mcurR\u001b[0m\u001b[1;33m,\u001b[0m \u001b[0mcurC\u001b[0m\u001b[1;33m)\u001b[0m\u001b[1;33m\u001b[0m\u001b[0m\n\u001b[1;32m---> 25\u001b[1;33m                 \u001b[0mans\u001b[0m\u001b[1;33m.\u001b[0m\u001b[0mappend\u001b[0m\u001b[1;33m(\u001b[0m\u001b[0mmatrix\u001b[0m\u001b[1;33m[\u001b[0m\u001b[0mcurR\u001b[0m\u001b[1;33m]\u001b[0m\u001b[1;33m[\u001b[0m\u001b[0mcurC\u001b[0m\u001b[1;33m]\u001b[0m\u001b[1;33m)\u001b[0m\u001b[1;33m\u001b[0m\u001b[0m\n\u001b[0m\u001b[0;32m     26\u001b[0m                 \u001b[0mcurR\u001b[0m \u001b[1;33m+=\u001b[0m \u001b[1;36m1\u001b[0m\u001b[1;33m\u001b[0m\u001b[0m\n\u001b[0;32m     27\u001b[0m                 \u001b[0mcurC\u001b[0m \u001b[1;33m-=\u001b[0m \u001b[1;36m1\u001b[0m\u001b[1;33m\u001b[0m\u001b[0m\n",
      "\u001b[1;31mIndexError\u001b[0m: index 3 is out of bounds for axis 0 with size 3"
     ]
    }
   ],
   "source": [
    "import numpy as np\n",
    "\n",
    "testArr = np.arange(12).reshape(3,4) + 1\n",
    "print(testArr)\n",
    "printMatrixZigZag(testArr)"
   ]
  },
  {
   "cell_type": "markdown",
   "metadata": {},
   "source": [
    "## 4 找到无序数组中最小的k个数\n",
    "题目：给定一个无序的整型数组arr，找到其中最小的k个数。"
   ]
  }
 ],
 "metadata": {
  "kernelspec": {
   "display_name": "Python 3",
   "language": "python",
   "name": "python3"
  },
  "language_info": {
   "codemirror_mode": {
    "name": "ipython",
    "version": 3
   },
   "file_extension": ".py",
   "mimetype": "text/x-python",
   "name": "python",
   "nbconvert_exporter": "python",
   "pygments_lexer": "ipython3",
   "version": "3.5.6"
  }
 },
 "nbformat": 4,
 "nbformat_minor": 2
}
